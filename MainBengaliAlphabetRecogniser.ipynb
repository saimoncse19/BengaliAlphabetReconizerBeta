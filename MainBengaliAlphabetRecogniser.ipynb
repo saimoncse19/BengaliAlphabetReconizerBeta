{
  "nbformat": 4,
  "nbformat_minor": 0,
  "metadata": {
    "colab": {
      "name": "MainBengaliAlphabetRecogniser.ipynb",
      "provenance": [],
      "collapsed_sections": [],
      "machine_shape": "hm"
    },
    "kernelspec": {
      "name": "python3",
      "display_name": "Python 3"
    },
    "accelerator": "TPU"
  },
  "cells": [
    {
      "cell_type": "markdown",
      "metadata": {
        "id": "wgunRrmHtyLW",
        "colab_type": "text"
      },
      "source": [
        "# Loading the pickled dataset"
      ]
    },
    {
      "cell_type": "code",
      "metadata": {
        "id": "KRvLStGNtyBX",
        "colab_type": "code",
        "colab": {}
      },
      "source": [
        "import pickle\n",
        "with open('dataUpdated30.pickle', 'rb') as pfl:\n",
        "    data_new = pickle.load(pfl)"
      ],
      "execution_count": null,
      "outputs": []
    },
    {
      "cell_type": "code",
      "metadata": {
        "id": "rN79KpZ31441",
        "colab_type": "code",
        "colab": {
          "base_uri": "https://localhost:8080/",
          "height": 1000
        },
        "outputId": "88eb69c7-4686-4de6-bcd0-b4a42144a1e8"
      },
      "source": [
        "data_new[0][0]"
      ],
      "execution_count": null,
      "outputs": [
        {
          "output_type": "execute_result",
          "data": {
            "text/plain": [
              "array([[  0,   0,   0,   0,   0,   0,   0,   0,   0,   0,   0,   0,   0,\n",
              "          0,   0,   0,   0,   0,   0,   0,   0,   0,   0,   0,   0,   0,\n",
              "          0,   0,   0,   0],\n",
              "       [  0,   0,   0,   0,   0,   0,   0,   0,   0,   0,   0,   0,   0,\n",
              "          0,   0,   0,   0,   0,   0,   0,   0,   0,   0,   0,   0,   0,\n",
              "          0,   0,   0,   0],\n",
              "       [  0,   0,   0,   0,   0,   0,   0,   0,   0,   0,   0,   0,   0,\n",
              "          0,   0,   0,   0,   0,   0,   0,   0,   0,   0,   0,   0,   0,\n",
              "          0,   0,   0,   0],\n",
              "       [  0,   0,   0,   0,   0,   0,   0,   0,   0,   0,   0,   0,   0,\n",
              "          0,   0,   0,   0,   0,   0,   0,   0,   0,   0,   0,   0,   0,\n",
              "          0,   0,   0,   0],\n",
              "       [  0,   0,   0,   0,   0,   0,   0,   0,   0,   0,   0,   0,   0,\n",
              "          0,   0,   0,   0,   0,   0,   0,   0,   0,   0,   0,   0,   0,\n",
              "          0,   0,   0,   0],\n",
              "       [  0,   0,   0,   0,   0,   0,   0,   0,   0,   0,   0,   0,   0,\n",
              "          0,   0,   0,   0,   0,   0,   0,   0,   0,   0,   0,   0,   0,\n",
              "          0,   0,   0,   0],\n",
              "       [  0,   0,   0,   0,   0,   0,   0,   0,   0,   0,   0,   0,   0,\n",
              "          0,   0,   0,   0,   0,   0,   0,   0,   0,   0,   0,   0,   0,\n",
              "          0,   0,   0,   0],\n",
              "       [  0,   0,   0,   0,   0,   0,   0,   0,   0,   0,   0,   0,   0,\n",
              "          0,   0,   0,   0,   0,   0,   0,   0,   0,   0,   0,   0,   0,\n",
              "          0,   0,   0,   0],\n",
              "       [255, 255, 255, 255, 255, 255, 255, 255, 255, 255, 255, 255, 255,\n",
              "        255, 255, 255, 255, 255, 186,   0,   0,   0, 195, 255, 255, 255,\n",
              "        255, 255, 255, 195],\n",
              "       [255, 255,   0,   0,   0, 255, 255,   0,   0,   0,   0,   0,   0,\n",
              "          0,   0,   0,   0,   0,   0,   0, 255, 255, 255, 247,   0,   0,\n",
              "          0,   0,   0,   0],\n",
              "       [  0,   0,   0,   0,   0, 255, 140,   0,   0,  27, 166, 255, 210,\n",
              "          0,   0,   0,   0,   0,   0, 255, 255,   0,   0,   0,   0,   0,\n",
              "          0,   0,   0,   0],\n",
              "       [  0,   0,   0,   0,   0, 255, 140,   0,   0, 255, 255,   0, 255,\n",
              "         65,   0,   0,   0,   0,   0, 255,  89,   0,   0,   0,   0,   0,\n",
              "          0,   0,   0,   0],\n",
              "       [  0,   0,   0,   0,   0, 255,   0,   0,   0, 255, 255, 255, 255,\n",
              "        255,   0,   0,   0,   0,   0, 255,   0,   0,   0,   0,   0,   0,\n",
              "          0,   0,   0,   0],\n",
              "       [  0,   0,   0,   0,   0, 255,   0,   0,   0, 229, 255, 255, 255,\n",
              "        115,   0,   0,   0,   0, 255, 255,   0,   0,   0,   0,   0,   0,\n",
              "          0,   0,   0,   0],\n",
              "       [  0,   0,   0,   0,   0, 255,  89,   0,   0,   0,   0,   0, 255,\n",
              "        115,   0,   0,   0,   0, 255, 166,   0,   0,   0,   0,   0,   0,\n",
              "          0,   0,   0,   0],\n",
              "       [  0,   0,   0,   0,   0, 255, 213,   0,   0,   0,   0,   0, 255,\n",
              "          0,   0,   0,   0, 121, 255,   0,   0,   0,   0,   0,   0,   0,\n",
              "          0,   0,   0,   0],\n",
              "       [  0,   0,   0,   0,   0, 255, 255,   0,   0,   0,   0, 254, 255,\n",
              "        255,   0,   0,   0, 255, 255,   0,   0,   0,   0,   0,   0,   0,\n",
              "          0,   0,   0,   0],\n",
              "       [  0,   0,   0,   0,   0, 255, 255,   0,   0,   0, 255, 255,   0,\n",
              "        255, 255,   0,   0, 255,   0,   0,   0,   0,   0,   0,   0,   0,\n",
              "          0,   0,   0,   0],\n",
              "       [  0,   0,   0,   0,   0,   0, 255,  64,   0, 255, 255,   0,   0,\n",
              "          0, 255,   0, 255, 255,   0,   0,   0,   0,   0,   0,   0,   0,\n",
              "          0,   0,   0,   0],\n",
              "       [  0,   0,   0,   0,   0,   0, 255, 255, 255, 255,   0,   0,   0,\n",
              "          0, 255,   0, 255,  64,   0,   0,   0,   0,   0,   0,   0,   0,\n",
              "          0,   0,   0,   0],\n",
              "       [  0,   0,   0,   0,   0,   0,   0,   0,   0,   0,   0,   0,   0,\n",
              "          0, 255, 255, 255,   0,   0,   0,   0,   0,   0,   0,   0,   0,\n",
              "          0,   0,   0,   0],\n",
              "       [  0,   0,   0,   0,   0,   0,   0,   0,   0,   0,   0,   0,   0,\n",
              "          0, 255, 255,   0,   0,   0,   0,   0,   0,   0,   0,   0,   0,\n",
              "          0,   0,   0,   0],\n",
              "       [  0,   0,   0,   0,   0,   0,   0,   0,   0,   0,   0,   0,   0,\n",
              "          0,   0,   0,   0,   0,   0,   0,   0,   0,   0,   0,   0,   0,\n",
              "          0,   0,   0,   0],\n",
              "       [  0,   0,   0,   0,   0,   0,   0,   0,   0,   0,   0,   0,   0,\n",
              "          0,   0,   0,   0,   0,   0,   0,   0,   0,   0,   0,   0,   0,\n",
              "          0,   0,   0,   0],\n",
              "       [  0,   0,   0,   0,   0,   0,   0,   0,   0,   0,   0,   0,   0,\n",
              "          0,   0,   0,   0,   0,   0,   0,   0,   0,   0,   0,   0,   0,\n",
              "          0,   0,   0,   0],\n",
              "       [  0,   0,   0,   0,   0,   0,   0,   0,   0,   0,   0,   0,   0,\n",
              "          0,   0,   0,   0,   0,   0,   0,   0,   0,   0,   0,   0,   0,\n",
              "          0,   0,   0,   0],\n",
              "       [  0,   0,   0,   0,   0,   0,   0,   0,   0,   0,   0,   0,   0,\n",
              "          0,   0,   0,   0,   0,   0,   0,   0,   0,   0,   0,   0,   0,\n",
              "          0,   0,   0,   0],\n",
              "       [  0,   0,   0,   0,   0,   0,   0,   0,   0,   0,   0,   0,   0,\n",
              "          0,   0,   0,   0,   0,   0,   0,   0,   0,   0,   0,   0,   0,\n",
              "          0,   0,   0,   0],\n",
              "       [  0,   0,   0,   0,   0,   0,   0,   0,   0,   0,   0,   0,   0,\n",
              "          0,   0,   0,   0,   0,   0,   0,   0,   0,   0,   0,   0,   0,\n",
              "          0,   0,   0,   0],\n",
              "       [  0,   0,   0,   0,   0,   0,   0,   0,   0,   0,   0,   0,   0,\n",
              "          0,   0,   0,   0,   0,   0,   0,   0,   0,   0,   0,   0,   0,\n",
              "          0,   0,   0,   0]], dtype=uint8)"
            ]
          },
          "metadata": {
            "tags": []
          },
          "execution_count": 5
        }
      ]
    },
    {
      "cell_type": "markdown",
      "metadata": {
        "id": "8rA9Tmue2FtL",
        "colab_type": "text"
      },
      "source": [
        "# Shuffling the data"
      ]
    },
    {
      "cell_type": "code",
      "metadata": {
        "id": "p49Fvf8f2HAO",
        "colab_type": "code",
        "colab": {
          "base_uri": "https://localhost:8080/",
          "height": 34
        },
        "outputId": "8ac26a93-851e-483c-b377-1a0f80d41fa7"
      },
      "source": [
        "import random\n",
        "random.shuffle(data_new)\n",
        "\n",
        "data_new[545][0].shape"
      ],
      "execution_count": null,
      "outputs": [
        {
          "output_type": "execute_result",
          "data": {
            "text/plain": [
              "(30, 30)"
            ]
          },
          "metadata": {
            "tags": []
          },
          "execution_count": 6
        }
      ]
    },
    {
      "cell_type": "markdown",
      "metadata": {
        "id": "XZmQGBet2QGc",
        "colab_type": "text"
      },
      "source": [
        "# Plotting a sample image"
      ]
    },
    {
      "cell_type": "code",
      "metadata": {
        "id": "iRfX4BCF2a44",
        "colab_type": "code",
        "colab": {
          "base_uri": "https://localhost:8080/",
          "height": 266
        },
        "outputId": "f06a9294-446e-450c-b1a0-5460092cdbd8"
      },
      "source": [
        "import matplotlib.pyplot as plt\n",
        "\n",
        "\n",
        "%matplotlib inline\n",
        "\n",
        "\n",
        "plt.imshow(data_new[545][0])\n",
        "plt.show()"
      ],
      "execution_count": null,
      "outputs": [
        {
          "output_type": "display_data",
          "data": {
            "image/png": "[encoded data removed]",
            "text/plain": [
              "<Figure size 432x288 with 1 Axes>"
            ]
          },
          "metadata": {
            "tags": [],
            "needs_background": "light"
          }
        }
      ]
    },
    {
      "cell_type": "code",
      "metadata": {
        "id": "oFQHYxck2uts",
        "colab_type": "code",
        "colab": {
          "base_uri": "https://localhost:8080/",
          "height": 34
        },
        "outputId": "ebd6a465-c547-4155-f7b8-b2d11ed334c2"
      },
      "source": [
        "data_new[545][1]"
      ],
      "execution_count": null,
      "outputs": [
        {
          "output_type": "execute_result",
          "data": {
            "text/plain": [
              "12"
            ]
          },
          "metadata": {
            "tags": []
          },
          "execution_count": 8
        }
      ]
    },
    {
      "cell_type": "markdown",
      "metadata": {
        "id": "CoczGsAD226V",
        "colab_type": "text"
      },
      "source": [
        "# Train and test data splitting"
      ]
    },
    {
      "cell_type": "code",
      "metadata": {
        "id": "KMKyZl0i24Cb",
        "colab_type": "code",
        "colab": {
          "base_uri": "https://localhost:8080/",
          "height": 51
        },
        "outputId": "5161aff5-8c87-4524-fdc5-59b3d03f83a8"
      },
      "source": [
        "train_data = []\n",
        "\n",
        "test_data = []\n",
        "\n",
        "\n",
        "for i in range(0, len(data_new), 5):\n",
        "  if i+5 < len(data_new):\n",
        "    train_data.extend(data_new[i:i+5])\n",
        "    test_data.append(data_new[i+5])\n",
        "\n",
        "print(len(train_data))\n",
        "print(len(test_data))"
      ],
      "execution_count": null,
      "outputs": [
        {
          "output_type": "stream",
          "text": [
            "98945\n",
            "19789\n"
          ],
          "name": "stdout"
        }
      ]
    },
    {
      "cell_type": "code",
      "metadata": {
        "id": "KYLFLcT-3FBs",
        "colab_type": "code",
        "colab": {}
      },
      "source": [
        "import numpy as np\n",
        "X_train = []\n",
        "y_train = []\n",
        "\n",
        "img_size = 30\n",
        "\n",
        "for features, label in train_data:\n",
        "  X_train.append(features)\n",
        "  y_train.append(label)\n",
        "\n",
        "X_train = np.array(X_train).reshape(-1, img_size*img_size)\n",
        "y_train = np.array(y_train)"
      ],
      "execution_count": null,
      "outputs": []
    },
    {
      "cell_type": "code",
      "metadata": {
        "id": "wPBhB3P33kck",
        "colab_type": "code",
        "colab": {
          "base_uri": "https://localhost:8080/",
          "height": 51
        },
        "outputId": "b83753d5-cfe1-43d4-c425-e8a75431ec3e"
      },
      "source": [
        "print(len(X_train))\n",
        "X_train.shape"
      ],
      "execution_count": null,
      "outputs": [
        {
          "output_type": "stream",
          "text": [
            "98945\n"
          ],
          "name": "stdout"
        },
        {
          "output_type": "execute_result",
          "data": {
            "text/plain": [
              "(98945, 900)"
            ]
          },
          "metadata": {
            "tags": []
          },
          "execution_count": 11
        }
      ]
    },
    {
      "cell_type": "markdown",
      "metadata": {
        "id": "EA-EK21r3oGe",
        "colab_type": "text"
      },
      "source": [
        "# Building a RF classifier"
      ]
    },
    {
      "cell_type": "code",
      "metadata": {
        "id": "MP6HgQJh3oQh",
        "colab_type": "code",
        "colab": {
          "base_uri": "https://localhost:8080/",
          "height": 153
        },
        "outputId": "61886113-ea75-40c2-825d-45cb406e0699"
      },
      "source": [
        "from sklearn import ensemble\n",
        "\n",
        "classifier = ensemble.RandomForestClassifier()\n",
        "\n",
        "classifier.fit(X_train, y_train)"
      ],
      "execution_count": null,
      "outputs": [
        {
          "output_type": "execute_result",
          "data": {
            "text/plain": [
              "RandomForestClassifier(bootstrap=True, ccp_alpha=0.0, class_weight=None,\n",
              "                       criterion='gini', max_depth=None, max_features='auto',\n",
              "                       max_leaf_nodes=None, max_samples=None,\n",
              "                       min_impurity_decrease=0.0, min_impurity_split=None,\n",
              "                       min_samples_leaf=1, min_samples_split=2,\n",
              "                       min_weight_fraction_leaf=0.0, n_estimators=100,\n",
              "                       n_jobs=None, oob_score=False, random_state=None,\n",
              "                       verbose=0, warm_start=False)"
            ]
          },
          "metadata": {
            "tags": []
          },
          "execution_count": 12
        }
      ]
    },
    {
      "cell_type": "markdown",
      "metadata": {
        "id": "G-hkWspC41Xt",
        "colab_type": "text"
      },
      "source": [
        "# Test data with labels, reshaping"
      ]
    },
    {
      "cell_type": "code",
      "metadata": {
        "id": "1vy53aV_41ft",
        "colab_type": "code",
        "colab": {}
      },
      "source": [
        "X_test = []\n",
        "y_test = []\n",
        "\n",
        "img_size = 30\n",
        "\n",
        "for features, label in test_data:\n",
        "  X_test.append(features)\n",
        "  y_test.append(label)\n",
        "\n",
        "X_test = np.array(X_test).reshape(-1, img_size*img_size)\n",
        "y_test = np.array(y_test)"
      ],
      "execution_count": null,
      "outputs": []
    },
    {
      "cell_type": "code",
      "metadata": {
        "id": "9JLHkLBr4-3A",
        "colab_type": "code",
        "colab": {}
      },
      "source": [
        "score = classifier.score(X_test, y_test)"
      ],
      "execution_count": null,
      "outputs": []
    },
    {
      "cell_type": "code",
      "metadata": {
        "id": "tm9J8edJ5Eyr",
        "colab_type": "code",
        "colab": {
          "base_uri": "https://localhost:8080/",
          "height": 34
        },
        "outputId": "bf1abc63-0902-4c11-fb44-a525504f2588"
      },
      "source": [
        "print(f\"Accuracy: {score*100:.2f}%\")"
      ],
      "execution_count": null,
      "outputs": [
        {
          "output_type": "stream",
          "text": [
            "Accuracy: 99.68%\n"
          ],
          "name": "stdout"
        }
      ]
    },
    {
      "cell_type": "markdown",
      "metadata": {
        "id": "Uyec8trd7jB3",
        "colab_type": "text"
      },
      "source": [
        "# Value to character mapper"
      ]
    },
    {
      "cell_type": "code",
      "metadata": {
        "id": "mYXF4ord7o7e",
        "colab_type": "code",
        "colab": {}
      },
      "source": [
        "vtc_map = {1:\"অ\", 2:\"আ\", 3:\"ই\", 4:\"ঈ\", 5:\"উ\", 6:\"ঊ\", 7:\"ঋ\", 8:\"এ\", 9:\"ঐ\", 10:\"ও\", 11:\"ঔ\",\n",
        "           12:\"ক\", 13:\"খ\", 14:\"গ\", 15:\"ঘ\", 16:\"ঙ\", 17:\"চ\", 18:\"ছ\", 19:\"জ\", 20:\"ঝ\", 21:\"ঞ\",\n",
        "              22:\"ট\", 23:\"ঠ\", 24:\"ড\", 25:\"ঢ\", 26:\"ণ\", 27:\"ত\", 28:\"থ\", 29:\"দ\", 30:\"ধ\", 31:\"ন\",\n",
        "              32:\"প\", 33:\"ফ\", 34:\"ব\", 35:\"ভ\", 36:\"ম\", 37:\"য\", 38:\"র\", 39:\"ল\", 40:\"শ\", 41:\"ষ\",\n",
        "              42:\"স\", 43:\"হ\", 44:\"ড়\", 45:\"ঢ়\", 46:\"য়\", 47:\"ৎ\", 48:\"ং\", 49:\"ঃ\", 50:\"ঁ\"}\n",
        "\n"
      ],
      "execution_count": null,
      "outputs": []
    },
    {
      "cell_type": "markdown",
      "metadata": {
        "id": "PAIihta9_iIj",
        "colab_type": "text"
      },
      "source": [
        "# Predicting"
      ]
    },
    {
      "cell_type": "code",
      "metadata": {
        "id": "hnAkjRsU_iWX",
        "colab_type": "code",
        "colab": {
          "base_uri": "https://localhost:8080/",
          "height": 266
        },
        "outputId": "19e7389b-f929-431c-edd7-4d3f8978e9bf"
      },
      "source": [
        "img_position = 16000\n",
        "img = X_test[img_position]\n",
        "plt.imshow(img.reshape(30, 30), cmap='gray')\n",
        "plt.show()\n",
        "\n",
        "v = classifier.predict(X_test[img_position].reshape(-1, 30*30))"
      ],
      "execution_count": null,
      "outputs": [
        {
          "output_type": "display_data",
          "data": {
            "image/png": "[encoded data removed]",
            "text/plain": [
              "<Figure size 432x288 with 1 Axes>"
            ]
          },
          "metadata": {
            "tags": [],
            "needs_background": "light"
          }
        }
      ]
    },
    {
      "cell_type": "code",
      "metadata": {
        "id": "6ke_sL28_p8g",
        "colab_type": "code",
        "colab": {
          "base_uri": "https://localhost:8080/",
          "height": 34
        },
        "outputId": "e16b91d6-7638-414d-998c-293eba8c307a"
      },
      "source": [
        "print(f\"The predicted word is: {vtc_map[v[0]]}\")"
      ],
      "execution_count": null,
      "outputs": [
        {
          "output_type": "stream",
          "text": [
            "The predicted word is: ফ\n"
          ],
          "name": "stdout"
        }
      ]
    },
    {
      "cell_type": "markdown",
      "metadata": {
        "id": "Z3LllnxwAAPj",
        "colab_type": "text"
      },
      "source": [
        "# Confusion Matrix"
      ]
    },
    {
      "cell_type": "code",
      "metadata": {
        "id": "rYRtZ_c47jPr",
        "colab_type": "code",
        "colab": {
          "base_uri": "https://localhost:8080/",
          "height": 1000
        },
        "outputId": "d69fc827-45ae-4b4d-98cf-dbf166faa48f"
      },
      "source": [
        "%matplotlib inline\n",
        "from sklearn.metrics import plot_confusion_matrix\n",
        "import matplotlib.pyplot as plt\n",
        "plt.rcParams['figure.figsize'] = [30, 30]\n",
        "cm = plot_confusion_matrix(classifier, X_test, y_test, display_labels=set(y_test),\n",
        "                                 cmap=plt.cm.Blues, values_format='d')\n",
        "\n",
        "cm.ax_.set_title(\"Confusion Matrix\")\n",
        "plt.show()"
      ],
      "execution_count": null,
      "outputs": [
        {
          "output_type": "display_data",
          "data": {
            "image/png": "[encoded data removed]",
            "text/plain": [
              "<Figure size 2160x2160 with 2 Axes>"
            ]
          },
          "metadata": {
            "tags": [],
            "needs_background": "light"
          }
        }
      ]
    },
    {
      "cell_type": "markdown",
      "metadata": {
        "id": "5IZ_BvOSDW_w",
        "colab_type": "text"
      },
      "source": [
        "# Calculating precision, recall and f-1 score"
      ]
    },
    {
      "cell_type": "code",
      "metadata": {
        "id": "h2KeS_uKBI7_",
        "colab_type": "code",
        "colab": {
          "base_uri": "https://localhost:8080/",
          "height": 68
        },
        "outputId": "2bc63960-38a6-4c47-fb4e-2017503e61f6"
      },
      "source": [
        "from sklearn.metrics import precision_score, recall_score, f1_score\n",
        "\n",
        "y_pred = classifier.predict(X_test)\n",
        "\n",
        "precision = precision_score(y_test, y_pred, average='weighted')\n",
        "print(f\"The precision is: {precision: .2f}.\")\n",
        "\n",
        "recall = recall_score(y_test, y_pred, average='weighted')\n",
        "print(f\"The recall is: {recall: .2f}.\")\n",
        "\n",
        "f1 = f1_score(y_test, y_pred, average='weighted')\n",
        "print(f\"The f1-score is: {f1: .2f}.\")"
      ],
      "execution_count": null,
      "outputs": [
        {
          "output_type": "stream",
          "text": [
            "The precision is:  1.00.\n",
            "The recall is:  1.00.\n",
            "The f1-score is:  1.00.\n"
          ],
          "name": "stdout"
        }
      ]
    },
    {
      "cell_type": "markdown",
      "metadata": {
        "id": "wLH1xTHD5ULW",
        "colab_type": "text"
      },
      "source": [
        "# Classification report"
      ]
    },
    {
      "cell_type": "code",
      "metadata": {
        "id": "1TsS9CoZ5Uat",
        "colab_type": "code",
        "colab": {
          "base_uri": "https://localhost:8080/",
          "height": 986
        },
        "outputId": "882717df-2c7a-4533-c327-a34a16fb4c02"
      },
      "source": [
        "from sklearn.metrics import classification_report\n",
        "\n",
        "cl = classification_report(y_test, y_pred, target_names=vtc_map.values())\n",
        "\n",
        "print(cl)\n",
        "\n"
      ],
      "execution_count": null,
      "outputs": [
        {
          "output_type": "stream",
          "text": [
            "              precision    recall  f1-score   support\n",
            "\n",
            "           অ       1.00      1.00      1.00       417\n",
            "           আ       1.00      1.00      1.00       371\n",
            "           ই       1.00      1.00      1.00       388\n",
            "           ঈ       1.00      1.00      1.00       396\n",
            "           উ       1.00      1.00      1.00       412\n",
            "           ঊ       1.00      1.00      1.00       389\n",
            "           ঋ       1.00      1.00      1.00       367\n",
            "           এ       1.00      1.00      1.00       390\n",
            "           ঐ       1.00      1.00      1.00       356\n",
            "           ও       1.00      1.00      1.00       415\n",
            "           ঔ       1.00      1.00      1.00       390\n",
            "           ক       1.00      1.00      1.00       407\n",
            "           খ       1.00      0.99      0.99       388\n",
            "           গ       1.00      1.00      1.00       401\n",
            "           ঘ       1.00      0.99      0.99       386\n",
            "           ঙ       1.00      1.00      1.00       387\n",
            "           চ       0.99      0.99      0.99       374\n",
            "           ছ       1.00      1.00      1.00       431\n",
            "           জ       1.00      1.00      1.00       373\n",
            "           ঝ       1.00      1.00      1.00       394\n",
            "           ঞ       1.00      1.00      1.00       399\n",
            "           ট       1.00      1.00      1.00       425\n",
            "           ঠ       1.00      1.00      1.00       388\n",
            "           ড       0.98      0.99      0.98       401\n",
            "           ঢ       1.00      0.99      0.99       415\n",
            "           ণ       0.99      1.00      1.00       382\n",
            "           ত       1.00      1.00      1.00       392\n",
            "           থ       0.98      0.99      0.99       374\n",
            "           দ       1.00      1.00      1.00       397\n",
            "           ধ       0.99      0.99      0.99       367\n",
            "           ন       0.99      1.00      0.99       367\n",
            "           প       1.00      1.00      1.00       399\n",
            "           ফ       1.00      1.00      1.00       423\n",
            "           ব       0.99      0.99      0.99       407\n",
            "           ভ       0.98      0.98      0.98       386\n",
            "           ম       1.00      0.99      0.99       387\n",
            "           য       0.98      1.00      0.99       397\n",
            "           র       1.00      1.00      1.00       379\n",
            "           ল       1.00      1.00      1.00       397\n",
            "           শ       1.00      1.00      1.00       430\n",
            "           ষ       1.00      1.00      1.00       413\n",
            "           স       1.00      1.00      1.00       387\n",
            "           হ       1.00      1.00      1.00       409\n",
            "           ড়       1.00      1.00      1.00       388\n",
            "           ঢ়       1.00      0.99      0.99       450\n",
            "           য়       1.00      0.99      1.00       396\n",
            "           ৎ       1.00      1.00      1.00       415\n",
            "           ং       1.00      1.00      1.00       388\n",
            "           ঃ       1.00      1.00      1.00       405\n",
            "           ঁ       1.00      1.00      1.00       394\n",
            "\n",
            "    accuracy                           1.00     19789\n",
            "   macro avg       1.00      1.00      1.00     19789\n",
            "weighted avg       1.00      1.00      1.00     19789\n",
            "\n"
          ],
          "name": "stdout"
        }
      ]
    }
  ]
}